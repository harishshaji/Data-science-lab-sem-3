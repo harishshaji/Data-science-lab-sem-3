{
 "cells": [
  {
   "cell_type": "code",
   "execution_count": 3,
   "id": "ea81fa53",
   "metadata": {},
   "outputs": [],
   "source": [
    "import numpy as np\n"
   ]
  },
  {
   "cell_type": "code",
   "execution_count": 11,
   "id": "c8c887fa",
   "metadata": {
    "scrolled": true
   },
   "outputs": [
    {
     "name": "stdout",
     "output_type": "stream",
     "text": [
      "displaying both array\n",
      "[ 1  2  4  8  9 10] [ 5 73  5  7  8  9]\n",
      "greater than comparison\n",
      "[False False False  True  True  True]\n",
      "greater or equal to comparison\n",
      "[False False False  True  True  True]\n",
      "less than comparison\n",
      "[ True  True  True False False False]\n",
      "less than or equal to comparison\n",
      "[ True  True  True False False False]\n"
     ]
    }
   ],
   "source": [
    "arr = np.array([1,2,4,8,9,10])\n",
    "arr1 = np.array([5,73,5,7,8,9])\n",
    "print(\"displaying both array\")\n",
    "print(arr,arr1)\n",
    "print(\"greater than comparison\")\n",
    "print(np.greater(arr,arr1))\n",
    "print(\"greater or equal to comparison\")\n",
    "print(np.greater_equal(arr,arr1))\n",
    "print(\"less than comparison\")\n",
    "print(np.less(arr,arr1))\n",
    "print(\"less than or equal to comparison\")\n",
    "print(np.less_equal(arr,arr1))"
   ]
  },
  {
   "cell_type": "code",
   "execution_count": 13,
   "id": "07573553",
   "metadata": {},
   "outputs": [
    {
     "name": "stdout",
     "output_type": "stream",
     "text": [
      "[30 32 34 36 38 40 42 44 46 48 50 52 54 56 58 60 62 64 66 68 70]\n"
     ]
    }
   ],
   "source": [
    "even = np.arange(30,71,2)\n",
    "print(even)\n"
   ]
  },
  {
   "cell_type": "code",
   "execution_count": 15,
   "id": "dd71d822",
   "metadata": {},
   "outputs": [
    {
     "name": "stdout",
     "output_type": "stream",
     "text": [
      "Identity matrix of order 3\n",
      "[[1. 0. 0.]\n",
      " [0. 1. 0.]\n",
      " [0. 0. 1.]]\n"
     ]
    }
   ],
   "source": [
    "ide_mat = np.identity(3)\n",
    "print(\"Identity matrix of order 3\")\n",
    "print(ide_mat)"
   ]
  },
  {
   "cell_type": "code",
   "execution_count": 20,
   "id": "3cefac2b",
   "metadata": {},
   "outputs": [
    {
     "name": "stdout",
     "output_type": "stream",
     "text": [
      "vector from 0 to 20\n",
      "[ 0  1  2  3  4  5  6  7  8  9 10 11 12 13 14 15 16 17 18 19]\n",
      "After changing magnitude from 9 to 15\n",
      "[  0   1   2   3   4   5   6   7   8   9 -10 -11 -12 -13 -14 -15  16  17\n",
      "  18  19]\n"
     ]
    }
   ],
   "source": [
    "vec = np.arange(21)\n",
    "print(\"vector from 0 to 20\")\n",
    "print(vec)\n",
    "vec[(vec > 9) & (vec < 16)] *= -1\n",
    "print(\"After changing magnitude from 9 to 15\")\n",
    "print(vec)"
   ]
  },
  {
   "cell_type": "code",
   "execution_count": 24,
   "id": "5224658d",
   "metadata": {},
   "outputs": [
    {
     "name": "stdout",
     "output_type": "stream",
     "text": [
      "5 * 5 zero matrix with different diagonal\n",
      "[[1 0 0 0 0]\n",
      " [0 2 0 0 0]\n",
      " [0 0 3 0 0]\n",
      " [0 0 0 4 0]\n",
      " [0 0 0 0 5]]\n"
     ]
    }
   ],
   "source": [
    "ze_mat = np.diag([1,2,3,4,5])\n",
    "print(\"5 * 5 zero matrix with different diagonal\")\n",
    "print(ze_mat)"
   ]
  },
  {
   "cell_type": "code",
   "execution_count": 25,
   "id": "ca030bed",
   "metadata": {},
   "outputs": [
    {
     "name": "stdout",
     "output_type": "stream",
     "text": [
      "Original array:\n",
      "[[ 0  1  6  7 11]\n",
      " [ 2  3 56 77  9]]\n",
      "Sum of all elements:\n",
      "172\n",
      "Sum of each column:\n",
      "[ 2  4 62 84 20]\n",
      "Sum of each row:\n",
      "[ 25 147]\n"
     ]
    }
   ],
   "source": [
    "x = np.array([[0,1,6,7,11],[2,3,56,77,9]])\n",
    "print(\"Original array:\")\n",
    "print(x)\n",
    "print(\"Sum of all elements:\")\n",
    "print(np.sum(x))\n",
    "print(\"Sum of each column:\")\n",
    "print(np.sum(x, axis=0))\n",
    "print(\"Sum of each row:\")\n",
    "print(np.sum(x, axis=1))\n"
   ]
  },
  {
   "cell_type": "code",
   "execution_count": 26,
   "id": "c356c65c",
   "metadata": {},
   "outputs": [
    {
     "name": "stdout",
     "output_type": "stream",
     "text": [
      "Original array:\n",
      "[[ 0  1  2]\n",
      " [ 3  4  5]\n",
      " [ 6  7  8]\n",
      " [ 9 10 11]]\n",
      "After loading, content of the text file:\n",
      "[[ 0.  1.  2.]\n",
      " [ 3.  4.  5.]\n",
      " [ 6.  7.  8.]\n",
      " [ 9. 10. 11.]]\n"
     ]
    }
   ],
   "source": [
    "x = np.arange(12).reshape(4, 3)\n",
    "print(\"Original array:\")\n",
    "print(x)\n",
    "header = 'col1 col2 col3'\n",
    "np.savetxt('temp.txt', x, fmt=\"%d\", header=header) \n",
    "print(\"After loading, content of the text file:\")\n",
    "result = np.loadtxt('temp.txt')\n",
    "print(result)"
   ]
  },
  {
   "cell_type": "code",
   "execution_count": 33,
   "id": "5a2e88f6",
   "metadata": {},
   "outputs": [
    {
     "name": "stdout",
     "output_type": "stream",
     "text": [
      "First array:\n",
      "[[ 0  1  6  7 11]\n",
      " [ 2  3 56 77  9]]\n",
      "Second array:\n",
      "[[ 0  1  6  7 11]\n",
      " [ 2  3 56 77  9]]\n",
      "Test above two arrays are\n",
      "Both are equal\n"
     ]
    }
   ],
   "source": [
    "\n",
    "x = np.array([[0,1,6,7,11],[2,3,56,77,9]])\n",
    "print(\"First array:\")\n",
    "print(x)\n",
    "y = np.array([[0,1,6,7,11],[2,3,56,77,9]])\n",
    "print(\"Second array:\")\n",
    "print(y)\n",
    "print(\"Test above two arrays are\")\n",
    "array_equal = np.allclose(x, y)\n",
    "if array_equal == True:\n",
    "    print(\"Both are equal\")\n",
    "else:\n",
    "    print(\"Both are not equal\")\n",
    "    \n"
   ]
  },
  {
   "cell_type": "code",
   "execution_count": 34,
   "id": "584bd3c9",
   "metadata": {
    "scrolled": true
   },
   "outputs": [
    {
     "name": "stdout",
     "output_type": "stream",
     "text": [
      "Original array:\n",
      "[[ 0  1  2  3]\n",
      " [ 4  5  6  7]\n",
      " [ 8  9 10 11]\n",
      " [12 13 14 15]]\n",
      "\n",
      "New array after swapping first and last rows of the said array:\n",
      "[[12 13 14 15]\n",
      " [ 4  5  6  7]\n",
      " [ 8  9 10 11]\n",
      " [ 0  1  2  3]]\n"
     ]
    }
   ],
   "source": [
    "\n",
    "nums = np.arange(16, dtype='int').reshape(-1, 4)\n",
    "print(\"Original array:\")\n",
    "print(nums)\n",
    "print(\"\\nNew array after swapping first and last rows of the said array:\")\n",
    "nums[[0,-1],:]=nums[[-1,0],:]\n",
    "print(nums)"
   ]
  },
  {
   "cell_type": "code",
   "execution_count": 35,
   "id": "8306c9ac",
   "metadata": {},
   "outputs": [
    {
     "name": "stdout",
     "output_type": "stream",
     "text": [
      "Array1:\n",
      "[[2 5 2]\n",
      " [1 5 5]]\n",
      "Array2:\n",
      "[[5 3 4]\n",
      " [3 2 5]]\n",
      "\n",
      "Multiply said arrays of same size element-by-element:\n",
      "[[10 15  8]\n",
      " [ 3 10 25]]\n"
     ]
    }
   ],
   "source": [
    "nums1 = np.array([[2, 5, 2],\n",
    "              [1, 5, 5]])\n",
    "nums2 = np.array([[5, 3, 4],\n",
    "              [3, 2, 5]])\n",
    "print(\"Array1:\") \n",
    "print(nums1)\n",
    "print(\"Array2:\") \n",
    "print(nums2)\n",
    "print(\"\\nMultiply said arrays of same size element-by-element:\")\n",
    "print(np.multiply(nums1, nums2))"
   ]
  },
  {
   "cell_type": "code",
   "execution_count": null,
   "id": "61512f38",
   "metadata": {},
   "outputs": [],
   "source": []
  },
  {
   "cell_type": "code",
   "execution_count": null,
   "id": "bf0ea95a",
   "metadata": {},
   "outputs": [],
   "source": []
  },
  {
   "cell_type": "code",
   "execution_count": null,
   "id": "9ec4279c",
   "metadata": {},
   "outputs": [],
   "source": []
  },
  {
   "cell_type": "code",
   "execution_count": null,
   "id": "2246fde6",
   "metadata": {},
   "outputs": [],
   "source": []
  },
  {
   "cell_type": "code",
   "execution_count": null,
   "id": "4b92b773",
   "metadata": {},
   "outputs": [],
   "source": []
  },
  {
   "cell_type": "code",
   "execution_count": null,
   "id": "a819b6e8",
   "metadata": {},
   "outputs": [],
   "source": []
  },
  {
   "cell_type": "code",
   "execution_count": null,
   "id": "40be2368",
   "metadata": {},
   "outputs": [],
   "source": []
  },
  {
   "cell_type": "code",
   "execution_count": null,
   "id": "c14bbe8e",
   "metadata": {},
   "outputs": [],
   "source": []
  },
  {
   "cell_type": "code",
   "execution_count": null,
   "id": "5ca22137",
   "metadata": {},
   "outputs": [],
   "source": []
  },
  {
   "cell_type": "code",
   "execution_count": null,
   "id": "9b7620f5",
   "metadata": {},
   "outputs": [],
   "source": []
  },
  {
   "cell_type": "code",
   "execution_count": null,
   "id": "c2b5c367",
   "metadata": {},
   "outputs": [],
   "source": []
  }
 ],
 "metadata": {
  "kernelspec": {
   "display_name": "Python 3",
   "language": "python",
   "name": "python3"
  },
  "language_info": {
   "codemirror_mode": {
    "name": "ipython",
    "version": 3
   },
   "file_extension": ".py",
   "mimetype": "text/x-python",
   "name": "python",
   "nbconvert_exporter": "python",
   "pygments_lexer": "ipython3",
   "version": "3.8.8"
  }
 },
 "nbformat": 4,
 "nbformat_minor": 5
}
